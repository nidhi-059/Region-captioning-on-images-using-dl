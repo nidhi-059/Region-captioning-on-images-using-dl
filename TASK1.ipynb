{
  "cells": [
    {
      "cell_type": "markdown",
      "metadata": {
        "id": "view-in-github",
        "colab_type": "text"
      },
      "source": [
        "<a href=\"https://colab.research.google.com/github/nidhi-059/Region-captioning-on-images-using-dl/blob/main/TASK1.ipynb\" target=\"_parent\"><img src=\"https://colab.research.google.com/assets/colab-badge.svg\" alt=\"Open In Colab\"/></a>"
      ]
    },
    {
      "cell_type": "code",
      "execution_count": null,
      "metadata": {
        "id": "Gf-nx17jvSyC"
      },
      "outputs": [],
      "source": [
        "import numpy as np\n",
        "import matplotlib.pyplot as plt"
      ]
    },
    {
      "cell_type": "code",
      "execution_count": null,
      "metadata": {
        "colab": {
          "base_uri": "https://localhost:8080/"
        },
        "id": "7mstmh8sv1L4",
        "outputId": "7f025634-5887-438d-884c-81ee6dc80a3f"
      },
      "outputs": [
        {
          "output_type": "stream",
          "name": "stdout",
          "text": [
            "Requirement already satisfied: mlxtend in /usr/local/lib/python3.11/dist-packages (0.23.4)\n",
            "Requirement already satisfied: scipy>=1.2.1 in /usr/local/lib/python3.11/dist-packages (from mlxtend) (1.15.3)\n",
            "Requirement already satisfied: numpy>=1.16.2 in /usr/local/lib/python3.11/dist-packages (from mlxtend) (2.0.2)\n",
            "Requirement already satisfied: pandas>=0.24.2 in /usr/local/lib/python3.11/dist-packages (from mlxtend) (2.2.2)\n",
            "Requirement already satisfied: scikit-learn>=1.3.1 in /usr/local/lib/python3.11/dist-packages (from mlxtend) (1.6.1)\n",
            "Requirement already satisfied: matplotlib>=3.0.0 in /usr/local/lib/python3.11/dist-packages (from mlxtend) (3.10.0)\n",
            "Requirement already satisfied: joblib>=0.13.2 in /usr/local/lib/python3.11/dist-packages (from mlxtend) (1.5.1)\n",
            "Requirement already satisfied: contourpy>=1.0.1 in /usr/local/lib/python3.11/dist-packages (from matplotlib>=3.0.0->mlxtend) (1.3.2)\n",
            "Requirement already satisfied: cycler>=0.10 in /usr/local/lib/python3.11/dist-packages (from matplotlib>=3.0.0->mlxtend) (0.12.1)\n",
            "Requirement already satisfied: fonttools>=4.22.0 in /usr/local/lib/python3.11/dist-packages (from matplotlib>=3.0.0->mlxtend) (4.58.2)\n",
            "Requirement already satisfied: kiwisolver>=1.3.1 in /usr/local/lib/python3.11/dist-packages (from matplotlib>=3.0.0->mlxtend) (1.4.8)\n",
            "Requirement already satisfied: packaging>=20.0 in /usr/local/lib/python3.11/dist-packages (from matplotlib>=3.0.0->mlxtend) (24.2)\n",
            "Requirement already satisfied: pillow>=8 in /usr/local/lib/python3.11/dist-packages (from matplotlib>=3.0.0->mlxtend) (11.2.1)\n",
            "Requirement already satisfied: pyparsing>=2.3.1 in /usr/local/lib/python3.11/dist-packages (from matplotlib>=3.0.0->mlxtend) (3.2.3)\n",
            "Requirement already satisfied: python-dateutil>=2.7 in /usr/local/lib/python3.11/dist-packages (from matplotlib>=3.0.0->mlxtend) (2.9.0.post0)\n",
            "Requirement already satisfied: pytz>=2020.1 in /usr/local/lib/python3.11/dist-packages (from pandas>=0.24.2->mlxtend) (2025.2)\n",
            "Requirement already satisfied: tzdata>=2022.7 in /usr/local/lib/python3.11/dist-packages (from pandas>=0.24.2->mlxtend) (2025.2)\n",
            "Requirement already satisfied: threadpoolctl>=3.1.0 in /usr/local/lib/python3.11/dist-packages (from scikit-learn>=1.3.1->mlxtend) (3.6.0)\n",
            "Requirement already satisfied: six>=1.5 in /usr/local/lib/python3.11/dist-packages (from python-dateutil>=2.7->matplotlib>=3.0.0->mlxtend) (1.17.0)\n"
          ]
        }
      ],
      "source": [
        "!pip install mlxtend"
      ]
    },
    {
      "cell_type": "code",
      "execution_count": null,
      "metadata": {
        "id": "7kNXfBiVzRM2"
      },
      "outputs": [],
      "source": [
        "from mlxtend.data import loadlocal_mnist\n",
        "train_x, train_y = loadlocal_mnist(images_path='/content/train-images.idx3-ubyte', labels_path='/content/train-labels.idx1-ubyte')\n",
        "test_x, test_y = loadlocal_mnist(images_path='/content/t10k-images.idx3-ubyte', labels_path='/content/t10k-labels.idx1-ubyte')"
      ]
    },
    {
      "cell_type": "code",
      "execution_count": null,
      "metadata": {
        "colab": {
          "base_uri": "https://localhost:8080/"
        },
        "id": "gSO_RbvR4BTm",
        "outputId": "d19d0d9c-6d1f-49f7-cd17-06a63de46a62"
      },
      "outputs": [
        {
          "output_type": "stream",
          "name": "stdout",
          "text": [
            "Before preprocessing:\n",
            "Train X: (60000, 784)\n",
            "Train Y: (60000,)\n",
            "\n",
            "After preprocessing:\n",
            "Train X: (784, 60000)\n",
            "Train Y: (1, 60000)\n",
            "Test X: (784, 10000)\n",
            "Test Y: (1, 10000)\n"
          ]
        }
      ],
      "source": [
        "# Load MNIST data\n",
        "train_x, train_y = loadlocal_mnist(\n",
        "    images_path='/content/train-images.idx3-ubyte',\n",
        "    labels_path='/content/train-labels.idx1-ubyte'\n",
        ")\n",
        "test_x, test_y = loadlocal_mnist(\n",
        "    images_path='/content/t10k-images.idx3-ubyte',\n",
        "    labels_path='/content/t10k-labels.idx1-ubyte'\n",
        ")\n",
        "\n",
        "# Print original shapes\n",
        "print(\"Before preprocessing:\")\n",
        "print(\"Train X:\", train_x.shape)\n",
        "print(\"Train Y:\", train_y.shape)\n",
        "\n",
        "# Transpose input data to shape: (features, samples)\n",
        "train_x = train_x.T  # (784, 60000)\n",
        "test_x = test_x.T    # (784, 10000)\n",
        "\n",
        "# Normalize pixel values to [0, 1]\n",
        "train_x = train_x / 255.0\n",
        "test_x = test_x / 255.0\n",
        "\n",
        "# Reshape labels to shape: (1, samples)\n",
        "train_y = train_y.reshape(1, -1)  # (1, 60000)\n",
        "test_y = test_y.reshape(1, -1)    # (1, 10000)\n",
        "\n",
        "# Print shapes after preprocessing\n",
        "print(\"\\nAfter preprocessing:\")\n",
        "print(\"Train X:\", train_x.shape)\n",
        "print(\"Train Y:\", train_y.shape)\n",
        "print(\"Test X:\", test_x.shape)\n",
        "print(\"Test Y:\", test_y.shape)"
      ]
    },
    {
      "cell_type": "code",
      "execution_count": null,
      "metadata": {
        "id": "aPPHd782Cobd"
      },
      "outputs": [],
      "source": [
        "def softmax(z):\n",
        "    z = z - np.max(z, aeepxis=0, kdims=True)  # prevent overflow\n",
        "    exp_z = np.exp(z)\n",
        "    return exp_z / np.sum(exp_z, axis=0, keepdims=True)\n"
      ]
    },
    {
      "cell_type": "code",
      "execution_count": null,
      "metadata": {
        "id": "Lm9zJopVC3qi"
      },
      "outputs": [],
      "source": [
        "def initial_param(z):\n",
        "    w1=np.random.rand(10,z.shape[0])*0.01\n",
        "    b1=np.zeros((10,1))*0.01\n",
        "    return w1,b1"
      ]
    },
    {
      "cell_type": "code",
      "execution_count": null,
      "metadata": {
        "id": "RIFxlY-bC7-7"
      },
      "outputs": [],
      "source": [
        "def forward_prop(w1,b1,x):\n",
        "    z1=np.dot(w1,x)+b1\n",
        "    a1=softmax(z1)\n",
        "    return z1,a1\n",
        "#not understood\n",
        "def one_hot_encode(y):\n",
        "    one_hot=np.zeros((y.size,y.max()+1))\n",
        "    one_hot[np.arange(y.size),y]=1\n",
        "    one_hot=one_hot.T\n",
        "    return one_hot"
      ]
    },
    {
      "cell_type": "code",
      "execution_count": null,
      "metadata": {
        "id": "24T783alC9U9"
      },
      "outputs": [],
      "source": [
        "def backward_prop(z1,w1,b1,a1,x,y):\n",
        "    one_hot_y=one_hot_encode(y)\n",
        "    dz1=a1-one_hot_y\n",
        "    dw1=(1/train_x.shape[1])*np.dot(dz1,x.T)\n",
        "    db1 = (1/train_x.shape[1]) * np.sum(dz1, axis=1, keepdims=True)\n",
        "    return dw1,db1\n",
        "\n",
        "def update_param(w1,b1,dw1,db1,alpha):\n",
        "    w1=w1-alpha*dw1\n",
        "    b1=b1-alpha*db1\n",
        "    return w1,b1"
      ]
    },
    {
      "cell_type": "code",
      "execution_count": null,
      "metadata": {
        "id": "xTvltBvSD-gz"
      },
      "outputs": [],
      "source": [
        "def get_predic(a1):\n",
        "    return np.argmax(a1,0)\n",
        "\n",
        "def get_accuracy(predic,y):\n",
        "    #print(predic,y)\n",
        "    return np.sum(predic==y)/y.size\n",
        "def compute_loss(a1, y):\n",
        "    m = y.shape[1]\n",
        "    one_hot_y = one_hot_encode(y)\n",
        "    log_probs = np.log(a1 + 1e-8)\n",
        "    loss = -np.sum(one_hot_y * log_probs) / m\n",
        "    return loss\n",
        "\n",
        "def grad_descent(x,y,alpha,iter):\n",
        "    w1,b1=initial_param(x)\n",
        "    losses=[]\n",
        "    accuracies=[]\n",
        "    for i in range(iter):\n",
        "        z1,a1=forward_prop(w1,b1,x)\n",
        "        loss = compute_loss(a1, y)\n",
        "        losses.append(loss)\n",
        "        pred = get_predic(a1)\n",
        "        acc = get_accuracy(pred, y)\n",
        "        accuracies.append(acc)\n",
        "        dw1,db1=backward_prop(z1,w1,b1,a1,x,y)\n",
        "        w1,b1=update_param(w1,b1,dw1,db1,alpha)\n",
        "        if i%10==0:\n",
        "            print(\"Epochs:\",i)\n",
        "            predic=get_predic(a1)\n",
        "            print(\"Accuracy: \",get_accuracy(predic,y)*100)\n",
        "            print(\"Loss: \",loss)\n",
        "\n",
        "    plt.plot(losses)\n",
        "    plt.title(\"Training Loss Over Epochs\")\n",
        "    plt.xlabel(\"Epochs\")\n",
        "    plt.ylabel(\"Loss\")\n",
        "    plt.grid(False)\n",
        "    plt.show()\n",
        "    plt.plot(accuracies)\n",
        "    plt.title(\"Training Accuracy Over Epochs\")\n",
        "    plt.xlabel(\"Iteration\")\n",
        "    plt.ylabel(\"Accuracy\")\n",
        "    plt.grid(False)\n",
        "    plt.show()\n",
        "\n",
        "    return w1,b1\n"
      ]
    },
    {
      "cell_type": "code",
      "execution_count": null,
      "metadata": {
        "colab": {
          "base_uri": "https://localhost:8080/",
          "height": 1000
        },
        "id": "AB5xqWGacs2b",
        "outputId": "d1299339-f443-4ae1-dfdf-ed30c81614e1"
      },
      "outputs": [
        {
          "output_type": "stream",
          "name": "stdout",
          "text": [
            "Epochs: 0\n",
            "Accuracy:  7.563333333333333\n",
            "Loss:  2.3038962140508983\n",
            "Epochs: 10\n",
            "Accuracy:  67.92666666666666\n",
            "Loss:  1.3134736532270432\n",
            "Epochs: 20\n",
            "Accuracy:  79.68333333333332\n",
            "Loss:  0.6346443782798106\n",
            "Epochs: 30\n",
            "Accuracy:  87.68166666666667\n",
            "Loss:  0.428104511581318\n",
            "Epochs: 40\n",
            "Accuracy:  88.43833333333333\n",
            "Loss:  0.3981332563090343\n",
            "Epochs: 50\n",
            "Accuracy:  88.51\n",
            "Loss:  0.3905861922777349\n",
            "Epochs: 60\n",
            "Accuracy:  89.05333333333333\n",
            "Loss:  0.3744767380276802\n",
            "Epochs: 70\n",
            "Accuracy:  89.75666666666666\n",
            "Loss:  0.35707870522058355\n",
            "Epochs: 80\n",
            "Accuracy:  90.18666666666667\n",
            "Loss:  0.3465058314990945\n",
            "Epochs: 90\n",
            "Accuracy:  90.41333333333334\n",
            "Loss:  0.33961026583057535\n",
            "Epochs: 100\n",
            "Accuracy:  90.62166666666667\n",
            "Loss:  0.3343640659335762\n",
            "Epochs: 110\n",
            "Accuracy:  90.78166666666667\n",
            "Loss:  0.3300100292493556\n",
            "Epochs: 120\n",
            "Accuracy:  90.88333333333334\n",
            "Loss:  0.32623013285667696\n",
            "Epochs: 130\n",
            "Accuracy:  90.99666666666667\n",
            "Loss:  0.3228718721609147\n",
            "Epochs: 140\n",
            "Accuracy:  91.07666666666667\n",
            "Loss:  0.3198510302622783\n",
            "Epochs: 150\n",
            "Accuracy:  91.16\n",
            "Loss:  0.31711178086398534\n",
            "Epochs: 160\n",
            "Accuracy:  91.24833333333333\n",
            "Loss:  0.3146120498368235\n",
            "Epochs: 170\n",
            "Accuracy:  91.31833333333333\n",
            "Loss:  0.31231838620381497\n",
            "Epochs: 180\n",
            "Accuracy:  91.375\n",
            "Loss:  0.3102036078895449\n",
            "Epochs: 190\n",
            "Accuracy:  91.43833333333333\n",
            "Loss:  0.30824532487574474\n",
            "Epochs: 200\n",
            "Accuracy:  91.49166666666667\n",
            "Loss:  0.3064248902753729\n",
            "Epochs: 210\n",
            "Accuracy:  91.54333333333334\n",
            "Loss:  0.3047266258135985\n",
            "Epochs: 220\n",
            "Accuracy:  91.59333333333333\n",
            "Loss:  0.3031372377163719\n",
            "Epochs: 230\n",
            "Accuracy:  91.64666666666666\n",
            "Loss:  0.30164536881462783\n",
            "Epochs: 240\n",
            "Accuracy:  91.675\n",
            "Loss:  0.3002412502055337\n",
            "Epochs: 250\n",
            "Accuracy:  91.69333333333334\n",
            "Loss:  0.2989164269827222\n",
            "Epochs: 260\n",
            "Accuracy:  91.72333333333333\n",
            "Loss:  0.29766353992028166\n",
            "Epochs: 270\n",
            "Accuracy:  91.75999999999999\n",
            "Loss:  0.2964761499935333\n",
            "Epochs: 280\n",
            "Accuracy:  91.79666666666667\n",
            "Loss:  0.29534859608472996\n",
            "Epochs: 290\n",
            "Accuracy:  91.81833333333333\n",
            "Loss:  0.294275878670509\n",
            "Epochs: 300\n",
            "Accuracy:  91.84166666666667\n",
            "Loss:  0.2932535640474189\n",
            "Epochs: 310\n",
            "Accuracy:  91.86999999999999\n",
            "Loss:  0.29227770493484145\n",
            "Epochs: 320\n",
            "Accuracy:  91.88833333333334\n",
            "Loss:  0.2913447742425216\n",
            "Epochs: 330\n",
            "Accuracy:  91.92\n",
            "Loss:  0.2904516094985818\n",
            "Epochs: 340\n",
            "Accuracy:  91.94333333333333\n",
            "Loss:  0.2895953659694092\n",
            "Epochs: 350\n",
            "Accuracy:  91.96666666666667\n",
            "Loss:  0.28877347691150146\n",
            "Epochs: 360\n",
            "Accuracy:  91.99166666666667\n",
            "Loss:  0.287983619710079\n",
            "Epochs: 370\n",
            "Accuracy:  92.01166666666667\n",
            "Loss:  0.28722368690368943\n",
            "Epochs: 380\n",
            "Accuracy:  92.03666666666666\n",
            "Loss:  0.28649176128531406\n",
            "Epochs: 390\n",
            "Accuracy:  92.05333333333333\n",
            "Loss:  0.28578609442128244\n",
            "Epochs: 400\n",
            "Accuracy:  92.08333333333333\n",
            "Loss:  0.28510508804899554\n",
            "Epochs: 410\n",
            "Accuracy:  92.11166666666666\n",
            "Loss:  0.28444727791004937\n",
            "Epochs: 420\n",
            "Accuracy:  92.14\n",
            "Loss:  0.2838113196521877\n",
            "Epochs: 430\n",
            "Accuracy:  92.14166666666667\n",
            "Loss:  0.28319597649557726\n",
            "Epochs: 440\n",
            "Accuracy:  92.16333333333333\n",
            "Loss:  0.28260010840934047\n",
            "Epochs: 450\n",
            "Accuracy:  92.17833333333333\n",
            "Loss:  0.28202266258545994\n",
            "Epochs: 460\n",
            "Accuracy:  92.18833333333333\n",
            "Loss:  0.28146266503094886\n",
            "Epochs: 470\n",
            "Accuracy:  92.19333333333334\n",
            "Loss:  0.28091921312702817\n",
            "Epochs: 480\n",
            "Accuracy:  92.21666666666667\n",
            "Loss:  0.28039146902709644\n",
            "Epochs: 490\n",
            "Accuracy:  92.225\n",
            "Loss:  0.2798786537844333\n"
          ]
        },
        {
          "output_type": "display_data",
          "data": {
            "text/plain": [
              "<Figure size 640x480 with 1 Axes>"
            ],
            "image/png": "[encoded data removed]"
          },
          "metadata": {}
        },
        {
          "output_type": "display_data",
          "data": {
            "text/plain": [
              "<Figure size 640x480 with 1 Axes>"
            ],
            "image/png": "[encoded data removed]"
          },
          "metadata": {}
        }
      ],
      "source": [
        "w1,b1=grad_descent(train_x,train_y,1.2,500)"
      ]
    },
    {
      "cell_type": "code",
      "execution_count": null,
      "metadata": {
        "id": "xwZjbzc9iZ-X",
        "colab": {
          "base_uri": "https://localhost:8080/",
          "height": 1000
        },
        "outputId": "a8a61d38-aa82-4b1a-bc10-d814720ae9e1"
      },
      "outputs": [
        {
          "output_type": "stream",
          "name": "stdout",
          "text": [
            "prediction: [5]\n",
            "label: 5\n"
          ]
        },
        {
          "output_type": "display_data",
          "data": {
            "text/plain": [
              "<Figure size 640x480 with 1 Axes>"
            ],
            "image/png": "[encoded data removed]"
          },
          "metadata": {}
        },
        {
          "output_type": "stream",
          "name": "stdout",
          "text": [
            "prediction: [0]\n",
            "label: 0\n"
          ]
        },
        {
          "output_type": "display_data",
          "data": {
            "text/plain": [
              "<Figure size 640x480 with 1 Axes>"
            ],
            "image/png": "[encoded data removed]"
          },
          "metadata": {}
        },
        {
          "output_type": "stream",
          "name": "stdout",
          "text": [
            "prediction: [4]\n",
            "label: 4\n"
          ]
        },
        {
          "output_type": "display_data",
          "data": {
            "text/plain": [
              "<Figure size 640x480 with 1 Axes>"
            ],
            "image/png": "[encoded data removed]"
          },
          "metadata": {}
        },
        {
          "output_type": "stream",
          "name": "stdout",
          "text": [
            "prediction: [1]\n",
            "label: 1\n"
          ]
        },
        {
          "output_type": "display_data",
          "data": {
            "text/plain": [
              "<Figure size 640x480 with 1 Axes>"
            ],
            "image/png": "[encoded data removed]"
          },
          "metadata": {}
        },
        {
          "output_type": "stream",
          "name": "stdout",
          "text": [
            "prediction: [9]\n",
            "label: 9\n"
          ]
        },
        {
          "output_type": "display_data",
          "data": {
            "text/plain": [
              "<Figure size 640x480 with 1 Axes>"
            ],
            "image/png": "[encoded data removed]"
          },
          "metadata": {}
        }
      ],
      "source": [
        "def make_prediction(x,w1,b1):\n",
        "    _,a1=forward_prop(w1,b1,x)\n",
        "    y_pred=get_predic(a1)\n",
        "    return y_pred\n",
        "\n",
        "def test_prediction(index,w1,b1):\n",
        "    current_img=train_x[:,index,None]\n",
        "    prediction=make_prediction(current_img,w1,b1)\n",
        "    label=train_y[0,index]\n",
        "    print(\"prediction:\",prediction)\n",
        "    print(\"label:\",label)\n",
        "\n",
        "    current_img=current_img.reshape((28,28))*255\n",
        "    plt.gray()\n",
        "    plt.imshow(current_img,interpolation='nearest')\n",
        "    plt.show()\n",
        "\n",
        "test_prediction(80,w1,b1)\n",
        "test_prediction(95,w1,b1)\n",
        "test_prediction(26,w1,b1)\n",
        "test_prediction(39,w1,b1)\n",
        "test_prediction(48,w1,b1)"
      ]
    },
    {
      "cell_type": "code",
      "execution_count": null,
      "metadata": {
        "colab": {
          "base_uri": "https://localhost:8080/"
        },
        "id": "M9cDSqupgNkB",
        "outputId": "9d009ccb-10c5-4a00-ac65-f8a48245fae7"
      },
      "outputs": [
        {
          "output_type": "stream",
          "name": "stdout",
          "text": [
            "Train Accuracy: 92.25%\n",
            "Test Accuracy: 92.20%\n"
          ]
        }
      ],
      "source": [
        "def compute_accuracy(X, Y, W, b):\n",
        "    \"\"\"\n",
        "    X: input data of shape (784, m)\n",
        "    Y: true labels of shape (1, m)\n",
        "    W: weights of shape (10, 784)\n",
        "    b: bias of shape (10, 1)\n",
        "    \"\"\"\n",
        "    Z = np.dot(W, X) + b           # Linear forward\n",
        "    A = softmax(Z)                 # Softmax activation\n",
        "    predictions = np.argmax(A, axis=0)  # Predicted class labels\n",
        "    labels = Y.flatten()               # Convert (1, m) to (m,)\n",
        "    accuracy = np.mean(predictions == labels) * 100\n",
        "    return accuracy\n",
        "\n",
        "acc_train = compute_accuracy(train_x, train_y, w1, b1)\n",
        "acc_test = compute_accuracy(test_x, test_y, w1, b1)\n",
        "\n",
        "print(f\"Train Accuracy: {acc_train:.2f}%\")\n",
        "print(f\"Test Accuracy: {acc_test:.2f}%\")\n"
      ]
    }
  ],
  "metadata": {
    "colab": {
      "provenance": [],
      "authorship_tag": "ABX9TyNpvf40pHuOILUe7NnevnGM",
      "include_colab_link": true
    },
    "kernelspec": {
      "display_name": "Python 3",
      "name": "python3"
    },
    "language_info": {
      "name": "python"
    }
  },
  "nbformat": 4,
  "nbformat_minor": 0
}
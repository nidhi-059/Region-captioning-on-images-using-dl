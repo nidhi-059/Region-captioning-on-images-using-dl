{
  "cells": [
    {
      "cell_type": "markdown",
      "metadata": {
        "id": "view-in-github",
        "colab_type": "text"
      },
      "source": [
        "<a href=\"https://colab.research.google.com/github/nidhi-059/Region-captioning-on-images-using-dl/blob/main/Task5.ipynb\" target=\"_parent\"><img src=\"https://colab.research.google.com/assets/colab-badge.svg\" alt=\"Open In Colab\"/></a>"
      ]
    },
    {
      "cell_type": "code",
      "execution_count": null,
      "metadata": {
        "colab": {
          "base_uri": "https://localhost:8080/"
        },
        "id": "MiacI7G9A1H6",
        "outputId": "b433c693-f7b5-4829-b219-5045c644122e",
        "collapsed": true
      },
      "outputs": [
        {
          "output_type": "stream",
          "name": "stdout",
          "text": [
            "✅ Data loaded | Vocab size: 10000\n"
          ]
        }
      ],
      "source": [
        "import pandas as pd\n",
        "import torch\n",
        "from torch.utils.data import Dataset, DataLoader\n",
        "from sklearn.model_selection import train_test_split\n",
        "from collections import Counter\n",
        "import re\n",
        "\n",
        "\n",
        "PAD_TOKEN = \"<PAD>\"\n",
        "UNK_TOKEN = \"<UNK>\"\n",
        "MAX_LEN = 200\n",
        "VOCAB_SIZE = 10000\n",
        "BATCH_SIZE = 64\n",
        "device = torch.device(\"cuda\" if torch.cuda.is_available() else \"cpu\")\n",
        "\n",
        "\n",
        "df = pd.read_csv(\"/content/IMDB Dataset.csv\")\n",
        "train_texts, test_texts, train_labels, test_labels = train_test_split(\n",
        "    df['review'], df['sentiment'], test_size=0.2, random_state=42\n",
        ")\n",
        "\n",
        "class IMDBDataset(Dataset):\n",
        "    def __init__(self, texts, labels, vocab=None):\n",
        "        self.texts = [self.tokenize(t) for t in texts]\n",
        "        self.labels = [1 if label == 'positive' else 0 for label in labels]\n",
        "\n",
        "        if vocab is None:\n",
        "            self.vocab = self.build_vocab(self.texts)\n",
        "        else:\n",
        "            self.vocab = vocab\n",
        "\n",
        "        self.texts = [self.encode(t) for t in self.texts]\n",
        "\n",
        "    def tokenize(self, text):\n",
        "        text = text.lower()\n",
        "        text = re.sub(r\"<.*?>\", \"\", text)\n",
        "        text = re.sub(r\"[^a-zA-Z0-9\\s]\", \"\", text)\n",
        "        return text.split()\n",
        "\n",
        "    def build_vocab(self, tokenized_texts):\n",
        "        counter = Counter(token for tokens in tokenized_texts for token in tokens)\n",
        "        most_common = counter.most_common(VOCAB_SIZE - 2)\n",
        "        vocab = {PAD_TOKEN: 0, UNK_TOKEN: 1}\n",
        "        vocab.update({word: i+2 for i, (word, _) in enumerate(most_common)})\n",
        "        return vocab\n",
        "\n",
        "    def encode(self, tokens):\n",
        "        ids = [self.vocab.get(token, self.vocab[UNK_TOKEN]) for token in tokens]\n",
        "        ids = ids[:MAX_LEN]\n",
        "        return ids + [self.vocab[PAD_TOKEN]] * (MAX_LEN - len(ids))\n",
        "\n",
        "    def __len__(self):\n",
        "        return len(self.texts)\n",
        "\n",
        "    def __getitem__(self, idx):\n",
        "        return torch.tensor(self.texts[idx], dtype=torch.long), torch.tensor(self.labels[idx], dtype=torch.float)\n",
        "\n",
        "train_dataset = IMDBDataset(train_texts.tolist(), train_labels.tolist())\n",
        "test_dataset = IMDBDataset(test_texts.tolist(), test_labels.tolist(), vocab=train_dataset.vocab)\n",
        "train_loader = DataLoader(train_dataset, batch_size=BATCH_SIZE, shuffle=True)\n",
        "test_loader = DataLoader(test_dataset, batch_size=BATCH_SIZE)\n",
        "vocab_size = len(train_dataset.vocab)\n",
        "\n",
        "print(\" Data loaded | Vocab size:\", vocab_size)\n",
        "\n",
        "\n"
      ]
    },
    {
      "cell_type": "code",
      "source": [
        "import torch.nn as nn\n",
        "import torch.optim as optim\n",
        "\n",
        "class RNNClassifier(nn.Module):\n",
        "    def __init__(self, vocab_size, embed_dim=128, hidden_dim=128):\n",
        "        super().__init__()\n",
        "        self.embedding = nn.Embedding(vocab_size, embed_dim)\n",
        "        self.rnn = nn.RNN(embed_dim, hidden_dim, batch_first=True)\n",
        "        self.fc = nn.Linear(hidden_dim, 1)\n",
        "        self.sigmoid = nn.Sigmoid()\n",
        "\n",
        "    def forward(self, x):\n",
        "        embedded = self.embedding(x)\n",
        "        output, hidden = self.rnn(embedded)\n",
        "        return self.sigmoid(self.fc(hidden.squeeze(0)))\n",
        "\n",
        "model = RNNClassifier(vocab_size).to(device)\n",
        "optimizer = optim.Adam(model.parameters(), lr=0.001)\n",
        "criterion = nn.BCELoss()\n",
        "\n",
        "def train_model(model):\n",
        "    model.train()\n",
        "    for epoch in range(5):\n",
        "        total_loss = 0\n",
        "        for inputs, labels in train_loader:\n",
        "            inputs, labels = inputs.to(device), labels.to(device)\n",
        "            optimizer.zero_grad()\n",
        "            preds = model(inputs).squeeze(1)\n",
        "            loss = criterion(preds, labels)\n",
        "            loss.backward()\n",
        "            optimizer.step()\n",
        "            total_loss += loss.item()\n",
        "        print(f\"Epoch {epoch+1} | Loss: {total_loss/len(train_loader):.4f}\")\n",
        "\n",
        "def evaluate_model(model):\n",
        "    model.eval()\n",
        "    correct = total = 0\n",
        "    with torch.no_grad():\n",
        "        for inputs, labels in test_loader:\n",
        "            inputs, labels = inputs.to(device), labels.to(device)\n",
        "            preds = model(inputs).squeeze(1)\n",
        "            predicted = (preds >= 0.5).float()\n",
        "            correct += (predicted == labels).sum().item()\n",
        "            total += labels.size(0)\n",
        "    print(f\" RNN test Accuracy: {100 * correct / total:.2f}%\")\n",
        "\n",
        "train_model(model)\n",
        "evaluate_model(model)\n",
        "\n"
      ],
      "metadata": {
        "colab": {
          "base_uri": "https://localhost:8080/"
        },
        "id": "94B8pxV0ai8W",
        "outputId": "5a28bbed-6f95-416d-d8db-7d3bd4020c7e"
      },
      "execution_count": null,
      "outputs": [
        {
          "output_type": "stream",
          "name": "stdout",
          "text": [
            "Epoch 1 | Loss: 0.6967\n",
            "Epoch 2 | Loss: 0.6875\n",
            "Epoch 3 | Loss: 0.6804\n",
            "Epoch 4 | Loss: 0.6661\n",
            "Epoch 5 | Loss: 0.6563\n",
            " RNN test Accuracy: 54.47%\n"
          ]
        }
      ]
    },
    {
      "cell_type": "code",
      "source": [
        "def predict_few_from_testset(model, test_loader, device, num_examples=6):\n",
        "    model.eval()\n",
        "    with torch.no_grad():\n",
        "        for inputs, labels in test_loader:\n",
        "            inputs, labels = inputs.to(device), labels.to(device)\n",
        "            preds = model(inputs).squeeze(1)\n",
        "            predicted_labels = (preds >= 0.5).float()\n",
        "\n",
        "            # Print predictions for first `num_examples` in this batch\n",
        "            print(f\"Predicting on {num_examples} examples from test set:\")\n",
        "            for i in range(min(num_examples, inputs.size(0))):\n",
        "                print(f\"Example {i+1}: Probability={preds[i].item():.4f}, Predicted={int(predicted_labels[i].item())}, Actual={int(labels[i].item())}\")\n",
        "            break  # Only process the first batch\n",
        "\n",
        "# Use after training and evaluation:\n",
        "predict_few_from_testset(model, test_loader, device, num_examples=6)\n"
      ],
      "metadata": {
        "colab": {
          "base_uri": "https://localhost:8080/"
        },
        "id": "gzsRzAKhlApI",
        "outputId": "b6539635-4bb4-4a22-cb59-9ec0719817cf"
      },
      "execution_count": null,
      "outputs": [
        {
          "output_type": "stream",
          "name": "stdout",
          "text": [
            "Predicting on 6 examples from test set:\n",
            "Example 1: Probability=0.4347, Predicted=0, Actual=1\n",
            "Example 2: Probability=0.5858, Predicted=1, Actual=1\n",
            "Example 3: Probability=0.5753, Predicted=1, Actual=0\n",
            "Example 4: Probability=0.5753, Predicted=1, Actual=1\n",
            "Example 5: Probability=0.3356, Predicted=0, Actual=0\n",
            "Example 6: Probability=0.6770, Predicted=1, Actual=1\n"
          ]
        }
      ]
    }
  ],
  "metadata": {
    "colab": {
      "provenance": [],
      "gpuType": "T4",
      "authorship_tag": "ABX9TyPiPWObo4ewYHtd/dDJANRG",
      "include_colab_link": true
    },
    "kernelspec": {
      "display_name": "Python 3",
      "name": "python3"
    },
    "language_info": {
      "name": "python"
    },
    "accelerator": "GPU"
  },
  "nbformat": 4,
  "nbformat_minor": 0
}
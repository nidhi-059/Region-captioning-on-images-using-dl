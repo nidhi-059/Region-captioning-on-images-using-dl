{
  "nbformat": 4,
  "nbformat_minor": 0,
  "metadata": {
    "colab": {
      "provenance": [],
      "authorship_tag": "ABX9TyNhcEqWPca1OpIZmLAKAcb7",
      "include_colab_link": true
    },
    "kernelspec": {
      "name": "python3",
      "display_name": "Python 3"
    },
    "language_info": {
      "name": "python"
    }
  },
  "cells": [
    {
      "cell_type": "markdown",
      "metadata": {
        "id": "view-in-github",
        "colab_type": "text"
      },
      "source": [
        "<a href=\"https://colab.research.google.com/github/nidhi-059/Region-captioning-on-images-using-dl/blob/main/Task5_part2.ipynb\" target=\"_parent\"><img src=\"https://colab.research.google.com/assets/colab-badge.svg\" alt=\"Open In Colab\"/></a>"
      ]
    },
    {
      "cell_type": "code",
      "execution_count": null,
      "metadata": {
        "colab": {
          "base_uri": "https://localhost:8080/"
        },
        "id": "MiacI7G9A1H6",
        "outputId": "f96d7473-5ade-4f14-ed95-1254471e207e"
      },
      "outputs": [
        {
          "output_type": "stream",
          "name": "stdout",
          "text": [
            " Data loaded | Vocab size: 10000\n"
          ]
        }
      ],
      "source": [
        "import pandas as pd\n",
        "import torch.nn as nn\n",
        "import torch\n",
        "from torch.utils.data import Dataset, DataLoader\n",
        "import torch.optim as optim\n",
        "from sklearn.model_selection import train_test_split\n",
        "from collections import Counter\n",
        "import re\n",
        "\n",
        "\n",
        "PAD_TOKEN = \"<PAD>\"\n",
        "UNK_TOKEN = \"<UNK>\"\n",
        "MAX_LEN = 200\n",
        "VOCAB_SIZE = 10000\n",
        "BATCH_SIZE = 64\n",
        "device = torch.device(\"cuda\" if torch.cuda.is_available() else \"cpu\")\n",
        "\n",
        "\n",
        "df = pd.read_csv(\"/content/IMDB Dataset.csv\")\n",
        "train_texts, test_texts, train_labels, test_labels = train_test_split(\n",
        "    df['review'], df['sentiment'], test_size=0.2, random_state=42\n",
        ")\n",
        "\n",
        "class IMDBDataset(Dataset):\n",
        "    def __init__(self, texts, labels, vocab=None):\n",
        "        self.texts = [self.tokenize(t) for t in texts]\n",
        "        self.labels = [1 if label == 'positive' else 0 for label in labels]\n",
        "\n",
        "        if vocab is None:\n",
        "            self.vocab = self.build_vocab(self.texts)\n",
        "        else:\n",
        "            self.vocab = vocab\n",
        "\n",
        "        self.texts = [self.encode(t) for t in self.texts]\n",
        "\n",
        "    def tokenize(self, text):\n",
        "        text = text.lower()\n",
        "        text = re.sub(r\"<.*?>\", \"\", text)\n",
        "        text = re.sub(r\"[^a-zA-Z0-9\\s]\", \"\", text)\n",
        "        return text.split()\n",
        "\n",
        "    def build_vocab(self, tokenized_texts):\n",
        "        counter = Counter(token for tokens in tokenized_texts for token in tokens)\n",
        "        most_common = counter.most_common(VOCAB_SIZE - 2)\n",
        "        vocab = {PAD_TOKEN: 0, UNK_TOKEN: 1}\n",
        "        vocab.update({word: i+2 for i, (word, _) in enumerate(most_common)})\n",
        "        return vocab\n",
        "\n",
        "    def encode(self, tokens):\n",
        "        ids = [self.vocab.get(token, self.vocab[UNK_TOKEN]) for token in tokens]\n",
        "        ids = ids[:MAX_LEN]\n",
        "        return ids + [self.vocab[PAD_TOKEN]] * (MAX_LEN - len(ids))\n",
        "\n",
        "    def __len__(self):\n",
        "        return len(self.labels)\n",
        "\n",
        "    def __getitem__(self, idx):\n",
        "        return torch.tensor(self.texts[idx], dtype=torch.long), torch.tensor(self.labels[idx], dtype=torch.float)\n",
        "\n",
        "train_dataset = IMDBDataset(train_texts.tolist(), train_labels.tolist())\n",
        "test_dataset = IMDBDataset(test_texts.tolist(), test_labels.tolist(), vocab=train_dataset.vocab)\n",
        "train_loader = DataLoader(train_dataset, batch_size=BATCH_SIZE, shuffle=True)\n",
        "test_loader = DataLoader(test_dataset, batch_size=BATCH_SIZE)\n",
        "vocab_size = len(train_dataset.vocab)\n",
        "\n",
        "print(\" Data loaded | Vocab size:\", vocab_size)\n",
        "\n",
        "\n"
      ]
    },
    {
      "cell_type": "code",
      "source": [
        "class LSTMClassifier(nn.Module):\n",
        "    def __init__(self, vocab_size, embed_dim=128, hidden_dim=128):\n",
        "        super().__init__()\n",
        "        self.embedding = nn.Embedding(vocab_size, embed_dim)\n",
        "        self.lstm = nn.LSTM(embed_dim, hidden_dim, batch_first=True)\n",
        "        self.fc = nn.Linear(hidden_dim, 1)\n",
        "        self.sigmoid = nn.Sigmoid()\n",
        "\n",
        "    def forward(self, x):\n",
        "        embedded = self.embedding(x)\n",
        "        output, (hidden, _) = self.lstm(embedded)\n",
        "        return self.sigmoid(self.fc(hidden[-1]))\n",
        "\n",
        "model = LSTMClassifier(vocab_size).to(device)\n",
        "optimizer = optim.Adam(model.parameters(), lr=0.001)\n",
        "criterion = nn.BCELoss()\n",
        "\n",
        "def train_model(model):\n",
        "    model.train()\n",
        "    for epoch in range(10):\n",
        "        total_loss = 0\n",
        "        for inputs, labels in train_loader:\n",
        "            inputs, labels = inputs.to(device), labels.to(device)\n",
        "            optimizer.zero_grad()\n",
        "            preds = model(inputs).squeeze(1)\n",
        "            loss = criterion(preds, labels)\n",
        "            loss.backward()\n",
        "            optimizer.step()\n",
        "            total_loss += loss.item()\n",
        "        print(f\"Epoch {epoch+1} | Loss: {total_loss/len(train_loader):.4f}\")\n",
        "\n",
        "def evaluate_model(model):\n",
        "    model.eval()\n",
        "    correct = total = 0\n",
        "    with torch.no_grad():\n",
        "        for inputs, labels in test_loader:\n",
        "            inputs, labels = inputs.to(device), labels.to(device)\n",
        "            preds = model(inputs).squeeze(1)\n",
        "            predicted = (preds >= 0.5).float()\n",
        "            correct += (predicted == labels).sum().item()\n",
        "            total += labels.size(0)\n",
        "    print(f\"LSTM Accuracy: {100 * correct / total:.2f}%\")\n",
        "\n",
        "train_model(model)\n",
        "evaluate_model(model)\n"
      ],
      "metadata": {
        "colab": {
          "base_uri": "https://localhost:8080/"
        },
        "id": "ClD77l0Ib6Fd",
        "outputId": "595032ca-1dd6-4769-cb04-86a31fb812c5"
      },
      "execution_count": null,
      "outputs": [
        {
          "output_type": "stream",
          "name": "stdout",
          "text": [
            "Epoch 1 | Loss: 0.6902\n",
            "Epoch 2 | Loss: 0.6631\n",
            "Epoch 3 | Loss: 0.3717\n",
            "Epoch 4 | Loss: 0.2653\n",
            "Epoch 5 | Loss: 0.2103\n",
            "Epoch 6 | Loss: 0.1621\n",
            "Epoch 7 | Loss: 0.1167\n",
            "Epoch 8 | Loss: 0.0809\n",
            "Epoch 9 | Loss: 0.0592\n",
            "Epoch 10 | Loss: 0.0457\n",
            "LSTM Accuracy: 86.53%\n"
          ]
        }
      ]
    }
  ]
}
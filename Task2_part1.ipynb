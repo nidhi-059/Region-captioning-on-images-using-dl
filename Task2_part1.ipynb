{
  "nbformat": 4,
  "nbformat_minor": 0,
  "metadata": {
    "colab": {
      "provenance": [],
      "gpuType": "T4",
      "authorship_tag": "ABX9TyP0M+ffGWzB6c7uP5B3oNbi",
      "include_colab_link": true
    },
    "kernelspec": {
      "name": "python3",
      "display_name": "Python 3"
    },
    "language_info": {
      "name": "python"
    },
    "accelerator": "GPU"
  },
  "cells": [
    {
      "cell_type": "markdown",
      "metadata": {
        "id": "view-in-github",
        "colab_type": "text"
      },
      "source": [
        "<a href=\"https://colab.research.google.com/github/nidhi-059/Region-captioning-on-images-using-dl/blob/main/Task2_part1.ipynb\" target=\"_parent\"><img src=\"https://colab.research.google.com/assets/colab-badge.svg\" alt=\"Open In Colab\"/></a>"
      ]
    },
    {
      "cell_type": "code",
      "execution_count": 2,
      "metadata": {
        "colab": {
          "base_uri": "https://localhost:8080/"
        },
        "id": "ob2Xga9a92Yo",
        "outputId": "7f865ee6-556a-4ae3-949b-efa0d2a780bb"
      },
      "outputs": [
        {
          "output_type": "stream",
          "name": "stdout",
          "text": [
            "Collecting torchmetrics\n",
            "  Downloading torchmetrics-1.8.2-py3-none-any.whl.metadata (22 kB)\n",
            "Requirement already satisfied: numpy>1.20.0 in /usr/local/lib/python3.12/dist-packages (from torchmetrics) (2.0.2)\n",
            "Requirement already satisfied: packaging>17.1 in /usr/local/lib/python3.12/dist-packages (from torchmetrics) (25.0)\n",
            "Requirement already satisfied: torch>=2.0.0 in /usr/local/lib/python3.12/dist-packages (from torchmetrics) (2.8.0+cu126)\n",
            "Collecting lightning-utilities>=0.8.0 (from torchmetrics)\n",
            "  Downloading lightning_utilities-0.15.2-py3-none-any.whl.metadata (5.7 kB)\n",
            "Requirement already satisfied: setuptools in /usr/local/lib/python3.12/dist-packages (from lightning-utilities>=0.8.0->torchmetrics) (75.2.0)\n",
            "Requirement already satisfied: typing_extensions in /usr/local/lib/python3.12/dist-packages (from lightning-utilities>=0.8.0->torchmetrics) (4.15.0)\n",
            "Requirement already satisfied: filelock in /usr/local/lib/python3.12/dist-packages (from torch>=2.0.0->torchmetrics) (3.20.0)\n",
            "Requirement already satisfied: sympy>=1.13.3 in /usr/local/lib/python3.12/dist-packages (from torch>=2.0.0->torchmetrics) (1.13.3)\n",
            "Requirement already satisfied: networkx in /usr/local/lib/python3.12/dist-packages (from torch>=2.0.0->torchmetrics) (3.5)\n",
            "Requirement already satisfied: jinja2 in /usr/local/lib/python3.12/dist-packages (from torch>=2.0.0->torchmetrics) (3.1.6)\n",
            "Requirement already satisfied: fsspec in /usr/local/lib/python3.12/dist-packages (from torch>=2.0.0->torchmetrics) (2025.3.0)\n",
            "Requirement already satisfied: nvidia-cuda-nvrtc-cu12==12.6.77 in /usr/local/lib/python3.12/dist-packages (from torch>=2.0.0->torchmetrics) (12.6.77)\n",
            "Requirement already satisfied: nvidia-cuda-runtime-cu12==12.6.77 in /usr/local/lib/python3.12/dist-packages (from torch>=2.0.0->torchmetrics) (12.6.77)\n",
            "Requirement already satisfied: nvidia-cuda-cupti-cu12==12.6.80 in /usr/local/lib/python3.12/dist-packages (from torch>=2.0.0->torchmetrics) (12.6.80)\n",
            "Requirement already satisfied: nvidia-cudnn-cu12==9.10.2.21 in /usr/local/lib/python3.12/dist-packages (from torch>=2.0.0->torchmetrics) (9.10.2.21)\n",
            "Requirement already satisfied: nvidia-cublas-cu12==12.6.4.1 in /usr/local/lib/python3.12/dist-packages (from torch>=2.0.0->torchmetrics) (12.6.4.1)\n",
            "Requirement already satisfied: nvidia-cufft-cu12==11.3.0.4 in /usr/local/lib/python3.12/dist-packages (from torch>=2.0.0->torchmetrics) (11.3.0.4)\n",
            "Requirement already satisfied: nvidia-curand-cu12==10.3.7.77 in /usr/local/lib/python3.12/dist-packages (from torch>=2.0.0->torchmetrics) (10.3.7.77)\n",
            "Requirement already satisfied: nvidia-cusolver-cu12==11.7.1.2 in /usr/local/lib/python3.12/dist-packages (from torch>=2.0.0->torchmetrics) (11.7.1.2)\n",
            "Requirement already satisfied: nvidia-cusparse-cu12==12.5.4.2 in /usr/local/lib/python3.12/dist-packages (from torch>=2.0.0->torchmetrics) (12.5.4.2)\n",
            "Requirement already satisfied: nvidia-cusparselt-cu12==0.7.1 in /usr/local/lib/python3.12/dist-packages (from torch>=2.0.0->torchmetrics) (0.7.1)\n",
            "Requirement already satisfied: nvidia-nccl-cu12==2.27.3 in /usr/local/lib/python3.12/dist-packages (from torch>=2.0.0->torchmetrics) (2.27.3)\n",
            "Requirement already satisfied: nvidia-nvtx-cu12==12.6.77 in /usr/local/lib/python3.12/dist-packages (from torch>=2.0.0->torchmetrics) (12.6.77)\n",
            "Requirement already satisfied: nvidia-nvjitlink-cu12==12.6.85 in /usr/local/lib/python3.12/dist-packages (from torch>=2.0.0->torchmetrics) (12.6.85)\n",
            "Requirement already satisfied: nvidia-cufile-cu12==1.11.1.6 in /usr/local/lib/python3.12/dist-packages (from torch>=2.0.0->torchmetrics) (1.11.1.6)\n",
            "Requirement already satisfied: triton==3.4.0 in /usr/local/lib/python3.12/dist-packages (from torch>=2.0.0->torchmetrics) (3.4.0)\n",
            "Requirement already satisfied: mpmath<1.4,>=1.1.0 in /usr/local/lib/python3.12/dist-packages (from sympy>=1.13.3->torch>=2.0.0->torchmetrics) (1.3.0)\n",
            "Requirement already satisfied: MarkupSafe>=2.0 in /usr/local/lib/python3.12/dist-packages (from jinja2->torch>=2.0.0->torchmetrics) (3.0.3)\n",
            "Downloading torchmetrics-1.8.2-py3-none-any.whl (983 kB)\n",
            "\u001b[2K   \u001b[90m━━━━━━━━━━━━━━━━━━━━━━━━━━━━━━━━━━━━━━━━\u001b[0m \u001b[32m983.2/983.2 kB\u001b[0m \u001b[31m25.6 MB/s\u001b[0m eta \u001b[36m0:00:00\u001b[0m\n",
            "\u001b[?25hDownloading lightning_utilities-0.15.2-py3-none-any.whl (29 kB)\n",
            "Installing collected packages: lightning-utilities, torchmetrics\n",
            "Successfully installed lightning-utilities-0.15.2 torchmetrics-1.8.2\n"
          ]
        }
      ],
      "source": [
        "!pip install torchmetrics"
      ]
    },
    {
      "cell_type": "code",
      "source": [
        "import torch\n",
        "import torch.nn as nn\n",
        "from torchmetrics.classification import Accuracy\n",
        "from torch.utils.data import DataLoader, Dataset\n",
        "import matplotlib.pyplot as plt\n"
      ],
      "metadata": {
        "id": "7x9QuYNM97l8"
      },
      "execution_count": 3,
      "outputs": []
    },
    {
      "cell_type": "code",
      "source": [
        "torch.manual_seed(42)"
      ],
      "metadata": {
        "colab": {
          "base_uri": "https://localhost:8080/"
        },
        "id": "L6I9WWvwMJ-6",
        "outputId": "349f1d0e-b168-4ff6-ac81-0e9c98d24752"
      },
      "execution_count": 4,
      "outputs": [
        {
          "output_type": "execute_result",
          "data": {
            "text/plain": [
              "<torch._C.Generator at 0x7eea87156f10>"
            ]
          },
          "metadata": {},
          "execution_count": 4
        }
      ]
    },
    {
      "cell_type": "code",
      "source": [
        "device = torch.device('cuda' if torch.cuda.is_available() else 'cpu')"
      ],
      "metadata": {
        "id": "tX0bTHFd-jsv"
      },
      "execution_count": 5,
      "outputs": []
    },
    {
      "cell_type": "code",
      "source": [
        "class CustomDataset(Dataset):\n",
        "    def __init__(self, features , labels):\n",
        "        self.features = features\n",
        "        self.Labels = labels\n",
        "\n",
        "    def __len__(self):\n",
        "        return self.features.shape[0]\n",
        "\n",
        "    def __getitem__(self , index):\n",
        "        return self.features[index] , self.Labels[index]"
      ],
      "metadata": {
        "id": "Sw56g3Ie-ndK"
      },
      "execution_count": 6,
      "outputs": []
    },
    {
      "cell_type": "code",
      "source": [
        "!pip install mlxtend"
      ],
      "metadata": {
        "colab": {
          "base_uri": "https://localhost:8080/"
        },
        "id": "B5yjdQzd-rpx",
        "outputId": "63dae51a-56f3-46a3-cb85-33920200878f"
      },
      "execution_count": null,
      "outputs": [
        {
          "output_type": "stream",
          "name": "stdout",
          "text": [
            "Requirement already satisfied: mlxtend in /usr/local/lib/python3.11/dist-packages (0.23.4)\n",
            "Requirement already satisfied: scipy>=1.2.1 in /usr/local/lib/python3.11/dist-packages (from mlxtend) (1.15.3)\n",
            "Requirement already satisfied: numpy>=1.16.2 in /usr/local/lib/python3.11/dist-packages (from mlxtend) (2.0.2)\n",
            "Requirement already satisfied: pandas>=0.24.2 in /usr/local/lib/python3.11/dist-packages (from mlxtend) (2.2.2)\n",
            "Requirement already satisfied: scikit-learn>=1.3.1 in /usr/local/lib/python3.11/dist-packages (from mlxtend) (1.6.1)\n",
            "Requirement already satisfied: matplotlib>=3.0.0 in /usr/local/lib/python3.11/dist-packages (from mlxtend) (3.10.0)\n",
            "Requirement already satisfied: joblib>=0.13.2 in /usr/local/lib/python3.11/dist-packages (from mlxtend) (1.5.1)\n",
            "Requirement already satisfied: contourpy>=1.0.1 in /usr/local/lib/python3.11/dist-packages (from matplotlib>=3.0.0->mlxtend) (1.3.2)\n",
            "Requirement already satisfied: cycler>=0.10 in /usr/local/lib/python3.11/dist-packages (from matplotlib>=3.0.0->mlxtend) (0.12.1)\n",
            "Requirement already satisfied: fonttools>=4.22.0 in /usr/local/lib/python3.11/dist-packages (from matplotlib>=3.0.0->mlxtend) (4.58.4)\n",
            "Requirement already satisfied: kiwisolver>=1.3.1 in /usr/local/lib/python3.11/dist-packages (from matplotlib>=3.0.0->mlxtend) (1.4.8)\n",
            "Requirement already satisfied: packaging>=20.0 in /usr/local/lib/python3.11/dist-packages (from matplotlib>=3.0.0->mlxtend) (24.2)\n",
            "Requirement already satisfied: pillow>=8 in /usr/local/lib/python3.11/dist-packages (from matplotlib>=3.0.0->mlxtend) (11.2.1)\n",
            "Requirement already satisfied: pyparsing>=2.3.1 in /usr/local/lib/python3.11/dist-packages (from matplotlib>=3.0.0->mlxtend) (3.2.3)\n",
            "Requirement already satisfied: python-dateutil>=2.7 in /usr/local/lib/python3.11/dist-packages (from matplotlib>=3.0.0->mlxtend) (2.9.0.post0)\n",
            "Requirement already satisfied: pytz>=2020.1 in /usr/local/lib/python3.11/dist-packages (from pandas>=0.24.2->mlxtend) (2025.2)\n",
            "Requirement already satisfied: tzdata>=2022.7 in /usr/local/lib/python3.11/dist-packages (from pandas>=0.24.2->mlxtend) (2025.2)\n",
            "Requirement already satisfied: threadpoolctl>=3.1.0 in /usr/local/lib/python3.11/dist-packages (from scikit-learn>=1.3.1->mlxtend) (3.6.0)\n",
            "Requirement already satisfied: six>=1.5 in /usr/local/lib/python3.11/dist-packages (from python-dateutil>=2.7->matplotlib>=3.0.0->mlxtend) (1.17.0)\n"
          ]
        }
      ]
    },
    {
      "cell_type": "code",
      "source": [
        "'''from mlxtend.data import loadlocal_mnist\n",
        "train_x , train_y = loadlocal_mnist(images_path = '/content/train-images.idx3-ubyte',labels_path = '/content/train-labels.idx1-ubyte')\n",
        "test_x , test_y = loadlocal_mnist(images_path = '/content/t10k-images.idx3-ubyte',labels_path = '/content/t10k-labels.idx1-ubyte')\n",
        "\n",
        "print(train_x.shape)\n",
        "print(train_y.shape)\n",
        "print(test_x.shape)\n",
        "print(test_y.shape)\n",
        "#coverting numpy arrays into tensors and normalizing inputs\n",
        "train_x = torch.tensor(train_x, dtype = torch.float32)\n",
        "train_x= train_x / 255.0\n",
        "train_y = torch.tensor(train_y , dtype = torch.long)\n",
        "\n",
        "test_x = (torch.tensor(test_x , dtype = torch.float32)) / 255.0\n",
        "test_y = (torch.tensor(test_y , dtype = torch.long))\n",
        "\n",
        "from sklearn.preprocessing import StandardScaler\n",
        "\n",
        "scaler = StandardScaler()\n",
        "train_x_scaled = scaler.fit_transform(train_x)\n",
        "test_x_scaled = scaler.transform(test_x)'''"
      ],
      "metadata": {
        "colab": {
          "base_uri": "https://localhost:8080/"
        },
        "id": "hIEOE5T0-udB",
        "outputId": "2a8774e4-2ce7-4dc9-d288-26f2e0b16b25"
      },
      "execution_count": null,
      "outputs": [
        {
          "output_type": "stream",
          "name": "stdout",
          "text": [
            "(60000, 784)\n",
            "(60000,)\n",
            "(10000, 784)\n",
            "(10000,)\n"
          ]
        }
      ]
    },
    {
      "cell_type": "code",
      "source": [
        "'''train_dataset = CustomDataset(train_x, train_y)\n",
        "test_dataset = CustomDataset(test_x, test_y)'''"
      ],
      "metadata": {
        "id": "RKp2CKL6-vSa"
      },
      "execution_count": null,
      "outputs": []
    },
    {
      "cell_type": "code",
      "source": [
        "from torchvision import transforms\n",
        "from torchvision import datasets\n",
        "# Transform: convert to tensor and normalize\n",
        "transform = transforms.Compose([\n",
        "    transforms.ToTensor(),\n",
        "    transforms.Normalize((0.1307,), (0.3081,))  # mean and std for MNIST\n",
        "])\n",
        "\n",
        "# Download and load the training data\n",
        "train_dataset = datasets.MNIST(\n",
        "    root='./data',\n",
        "    train=True,\n",
        "    transform=transform,\n",
        "    download=True\n",
        ")\n",
        "\n",
        "test_dataset = datasets.MNIST(\n",
        "    root='./data',\n",
        "    train=False,\n",
        "    transform=transform,\n",
        "    download=True\n",
        ")\n",
        "\n",
        "# Data loaders\n",
        "train_loader = DataLoader(train_dataset, batch_size=64, shuffle=True)\n",
        "test_loader = DataLoader(test_dataset, batch_size=64, shuffle=False)"
      ],
      "metadata": {
        "id": "b_PSHeWeDN7B",
        "colab": {
          "base_uri": "https://localhost:8080/"
        },
        "outputId": "b5f2ecd5-517b-466c-97f0-d11af05bb0f1"
      },
      "execution_count": 7,
      "outputs": [
        {
          "output_type": "stream",
          "name": "stderr",
          "text": [
            "100%|██████████| 9.91M/9.91M [00:00<00:00, 18.5MB/s]\n",
            "100%|██████████| 28.9k/28.9k [00:00<00:00, 497kB/s]\n",
            "100%|██████████| 1.65M/1.65M [00:00<00:00, 4.54MB/s]\n",
            "100%|██████████| 4.54k/4.54k [00:00<00:00, 8.32MB/s]\n"
          ]
        }
      ]
    },
    {
      "cell_type": "code",
      "source": [
        "train_Loader = DataLoader(train_dataset , batch_size = 128, shuffle = True , pin_memory = True)\n",
        "test_Loader = DataLoader(test_dataset , batch_size = 128 , shuffle = False , pin_memory = True)"
      ],
      "metadata": {
        "id": "O8ztOAAY-xXw"
      },
      "execution_count": 8,
      "outputs": []
    },
    {
      "cell_type": "code",
      "source": [
        "class model(nn.Module):\n",
        "    def __init__(self, num_features):\n",
        "        super().__init__() #calling the constructor of the parent class\n",
        "        self.model = nn.Sequential(\n",
        "            nn.Linear(num_features,128),\n",
        "            nn.BatchNorm1d(128),\n",
        "            nn.ReLU(),\n",
        "            nn.Dropout(0.2),\n",
        "            nn.Linear(128,10)\n",
        "\n",
        "        )\n",
        "\n",
        "    def forward(self,x):\n",
        "        x = x.view(x.size(0), -1)\n",
        "        return self.model(x)"
      ],
      "metadata": {
        "id": "p3SLKZQ9-zal"
      },
      "execution_count": 9,
      "outputs": []
    },
    {
      "cell_type": "code",
      "source": [
        "loss_func = nn.CrossEntropyLoss()\n"
      ],
      "metadata": {
        "id": "3n9bC410-56n"
      },
      "execution_count": 10,
      "outputs": []
    },
    {
      "cell_type": "code",
      "source": [
        "learning_rate= 0.00089\n",
        "epochs = 50\n",
        "\n"
      ],
      "metadata": {
        "id": "l02kSPZw-9S0"
      },
      "execution_count": 11,
      "outputs": []
    },
    {
      "cell_type": "code",
      "source": [
        "model1 = model(28*28)\n",
        "model1 = model1.to(device)\n",
        "losses = []\n",
        "accuracy = []\n",
        "optimizer = torch.optim.Adam(model1.parameters(),lr=learning_rate , weight_decay= 1e-4)\n",
        "for epoch in range(epochs):\n",
        "    total_labels = 0\n",
        "    running_acc = 0.0\n",
        "    running_loss = 0.0\n",
        "    for batch_features, batch_labels in train_Loader:\n",
        "        batch_features, batch_labels = batch_features.to(device), batch_labels.to(device)\n",
        "\n",
        "        #forward pass\n",
        "        y_predic = model1(batch_features)\n",
        "        #calcuting loss\n",
        "        loss = loss_func(y_predic , batch_labels)\n",
        "        #clearing grads\n",
        "        optimizer.zero_grad()\n",
        "        #backward pass\n",
        "        loss.backward()\n",
        "        #updating parameters\n",
        "        optimizer.step()\n",
        "        _, predicted = torch.max(y_predic, dim=1)\n",
        "        running_acc += (predicted == batch_labels).sum().item()\n",
        "        total_labels += batch_labels.size(0)\n",
        "        running_loss += loss.item()\n",
        "\n",
        "    # Compute epoch accuracy\n",
        "    avg_loss = running_loss / (len(train_Loader))\n",
        "    avg_acc = running_acc / total_labels\n",
        "    losses.append(avg_loss)\n",
        "    accuracy.append(avg_acc)\n",
        "\n",
        "    print(f\"Epoch {epoch + 1}, Loss: {avg_loss:.6f},\")\n",
        "\n",
        "plt.plot(losses)\n",
        "plt.title(\"Training loss over epochs\")\n",
        "plt.xlabel(\"Epochs\")\n",
        "plt.ylabel(\"loss\")\n",
        "plt.grid(False)\n",
        "plt.show()\n",
        "plt.plot(accuracy)\n",
        "plt.title(\"Training accuracy over epochs\")\n",
        "plt.xlabel(\"epochs\")\n",
        "plt.ylabel(\"accuracy\")\n",
        "plt.grid(False)\n",
        "plt.show()"
      ],
      "metadata": {
        "colab": {
          "base_uri": "https://localhost:8080/",
          "height": 1000
        },
        "id": "ZCK_5iyV_E0B",
        "outputId": "4025ac39-03c6-45e3-c977-df94ed3d3eef"
      },
      "execution_count": 12,
      "outputs": [
        {
          "output_type": "stream",
          "name": "stdout",
          "text": [
            "Epoch 1, Loss: 0.361535,\n",
            "Epoch 2, Loss: 0.177655,\n",
            "Epoch 3, Loss: 0.139211,\n",
            "Epoch 4, Loss: 0.117410,\n",
            "Epoch 5, Loss: 0.104059,\n",
            "Epoch 6, Loss: 0.090594,\n",
            "Epoch 7, Loss: 0.086746,\n",
            "Epoch 8, Loss: 0.079030,\n",
            "Epoch 9, Loss: 0.072114,\n",
            "Epoch 10, Loss: 0.068127,\n",
            "Epoch 11, Loss: 0.065587,\n",
            "Epoch 12, Loss: 0.061880,\n",
            "Epoch 13, Loss: 0.057645,\n",
            "Epoch 14, Loss: 0.056309,\n",
            "Epoch 15, Loss: 0.053922,\n",
            "Epoch 16, Loss: 0.052669,\n",
            "Epoch 17, Loss: 0.049479,\n",
            "Epoch 18, Loss: 0.049786,\n",
            "Epoch 19, Loss: 0.048458,\n",
            "Epoch 20, Loss: 0.046430,\n",
            "Epoch 21, Loss: 0.044356,\n",
            "Epoch 22, Loss: 0.042163,\n",
            "Epoch 23, Loss: 0.042265,\n",
            "Epoch 24, Loss: 0.041249,\n",
            "Epoch 25, Loss: 0.040572,\n",
            "Epoch 26, Loss: 0.040553,\n",
            "Epoch 27, Loss: 0.038553,\n",
            "Epoch 28, Loss: 0.037029,\n",
            "Epoch 29, Loss: 0.039446,\n",
            "Epoch 30, Loss: 0.038500,\n",
            "Epoch 31, Loss: 0.036887,\n",
            "Epoch 32, Loss: 0.036793,\n",
            "Epoch 33, Loss: 0.034363,\n",
            "Epoch 34, Loss: 0.035307,\n",
            "Epoch 35, Loss: 0.035749,\n",
            "Epoch 36, Loss: 0.035512,\n",
            "Epoch 37, Loss: 0.035508,\n",
            "Epoch 38, Loss: 0.034424,\n",
            "Epoch 39, Loss: 0.034401,\n",
            "Epoch 40, Loss: 0.035272,\n",
            "Epoch 41, Loss: 0.033613,\n",
            "Epoch 42, Loss: 0.031880,\n",
            "Epoch 43, Loss: 0.034404,\n",
            "Epoch 44, Loss: 0.032798,\n",
            "Epoch 45, Loss: 0.031993,\n",
            "Epoch 46, Loss: 0.032484,\n",
            "Epoch 47, Loss: 0.033162,\n",
            "Epoch 48, Loss: 0.032496,\n",
            "Epoch 49, Loss: 0.030937,\n",
            "Epoch 50, Loss: 0.032504,\n"
          ]
        },
        {
          "output_type": "display_data",
          "data": {
            "text/plain": [
              "<Figure size 640x480 with 1 Axes>"
            ],
            "image/png": "[encoded data removed]"
          },
          "metadata": {}
        },
        {
          "output_type": "display_data",
          "data": {
            "text/plain": [
              "<Figure size 640x480 with 1 Axes>"
            ],
            "image/png": "[encoded data removed]"
          },
          "metadata": {}
        }
      ]
    },
    {
      "cell_type": "code",
      "source": [
        "#Model evaluation\n",
        "model1.eval()\n",
        "total = 0\n",
        "correct = 0\n",
        "\n",
        "with torch.no_grad():\n",
        "\n",
        "  for batch_features, batch_labels in test_Loader:\n",
        "    batch_features, batch_labels = batch_features.to(device), batch_labels.to(device)\n",
        "    outputs = model1(batch_features)\n",
        "\n",
        "    _, predicted = torch.max(outputs, 1)\n",
        "\n",
        "    total = total + batch_labels.shape[0]\n",
        "\n",
        "    correct = correct + (predicted == batch_labels).sum().item()\n",
        "\n",
        "print(f\"Test accuracy: {(correct/total)*100}%\")"
      ],
      "metadata": {
        "colab": {
          "base_uri": "https://localhost:8080/"
        },
        "id": "oGJ9E9dK_F3O",
        "outputId": "1f21ca44-0b94-4da8-f701-3630cb6d51e4"
      },
      "execution_count": 13,
      "outputs": [
        {
          "output_type": "stream",
          "name": "stdout",
          "text": [
            "Test accuracy: 98.09%\n"
          ]
        }
      ]
    },
    {
      "cell_type": "code",
      "source": [
        "#Model evaluation\n",
        "\n",
        "total = 0\n",
        "correct = 0\n",
        "\n",
        "with torch.no_grad():\n",
        "\n",
        "  for batch_features, batch_labels in train_Loader:\n",
        "    batch_features, batch_labels = batch_features.to(device), batch_labels.to(device)\n",
        "    outputs = model1(batch_features)\n",
        "\n",
        "    _, predicted = torch.max(outputs, 1)\n",
        "\n",
        "    total = total + batch_labels.shape[0]\n",
        "\n",
        "    correct = correct + (predicted == batch_labels).sum().item()\n",
        "\n",
        "print(f\"Train accuracy : {(correct/total)*100}%\")"
      ],
      "metadata": {
        "colab": {
          "base_uri": "https://localhost:8080/"
        },
        "id": "URq2Bq68_PgZ",
        "outputId": "a33fb008-1d1c-4e31-d394-0e549072d2ae"
      },
      "execution_count": 14,
      "outputs": [
        {
          "output_type": "stream",
          "name": "stdout",
          "text": [
            "Train accuracy : 99.885%\n"
          ]
        }
      ]
    },
    {
      "cell_type": "code",
      "source": [
        "def predict_from_dataset(index, dataset, model, class_names, device):\n",
        "    model.eval()\n",
        "\n",
        "    # Get image and label from dataset\n",
        "    image_tensor, label = dataset[index]  # image_tensor: [C, H, W], label: int\n",
        "    input_tensor = image_tensor.unsqueeze(0).to(device)  # add batch dimension\n",
        "\n",
        "    # Predict\n",
        "    with torch.no_grad():\n",
        "        output = model(input_tensor)  # logits\n",
        "        _, predicted_idx = torch.max(output, dim=1)\n",
        "        predicted_class = class_names[predicted_idx.item()]\n",
        "        actual_class = class_names[label if isinstance(label, int) else label.item()]\n",
        "\n",
        "    # Undo normalization for display (assumes mean=0.5, std=0.5)\n",
        "    img = image_tensor * 0.5 + 0.5  # denormalize\n",
        "    img = img.permute(1, 2, 0).cpu().numpy()  # [C, H, W] → [H, W, C]\n",
        "\n",
        "    # Display image\n",
        "    plt.imshow(img)\n",
        "    plt.title(f\"Predicted: {predicted_class} | Actual: {actual_class}\")\n",
        "    plt.axis('off')\n",
        "    plt.show()\n",
        "\n",
        "    print(f\"Predicted Class: {predicted_class}\")\n",
        "    print(f\"Actual Class: {actual_class}\")"
      ],
      "metadata": {
        "id": "NFAJdBu9C7Sk"
      },
      "execution_count": 15,
      "outputs": []
    },
    {
      "cell_type": "code",
      "source": [
        "predict_from_dataset(\n",
        "    index=5,\n",
        "    dataset=test_dataset,\n",
        "    model=model1,\n",
        "    class_names=['0', '1', '2', '3','4','5','6','7','8','9'],  # adjust to your dataset\n",
        "    device=device\n",
        ")\n",
        "predict_from_dataset(\n",
        "    index=85,\n",
        "    dataset=test_dataset,\n",
        "    model=model1,\n",
        "    class_names=['0', '1', '2', '3','4','5','6','7','8','9'],  # adjust to your dataset\n",
        "    device=device\n",
        ")\n",
        "predict_from_dataset(\n",
        "    index=25,\n",
        "    dataset=test_dataset,\n",
        "    model=model1,\n",
        "    class_names=['0', '1', '2', '3','4','5','6','7','8','9'],  # adjust to your dataset\n",
        "    device=device\n",
        ")\n",
        "predict_from_dataset(\n",
        "    index=90,\n",
        "    dataset=test_dataset,\n",
        "    model=model1,\n",
        "    class_names=['0', '1', '2', '3','4','5','6','7','8','9'],  # adjust to your dataset\n",
        "    device=device\n",
        ")\n",
        "predict_from_dataset(\n",
        "    index=50,\n",
        "    dataset=test_dataset,\n",
        "    model=model1,\n",
        "    class_names=['0', '1', '2', '3','4','5','6','7','8','9'],  # adjust to your dataset\n",
        "    device=device\n",
        ")"
      ],
      "metadata": {
        "colab": {
          "base_uri": "https://localhost:8080/",
          "height": 1000
        },
        "id": "HOZJK0gOC7V8",
        "outputId": "80ddf7dd-f3d2-4be2-be39-8aab0156ac8e"
      },
      "execution_count": 19,
      "outputs": [
        {
          "output_type": "display_data",
          "data": {
            "text/plain": [
              "<Figure size 640x480 with 1 Axes>"
            ],
            "image/png": "[encoded data removed]"
          },
          "metadata": {}
        },
        {
          "output_type": "stream",
          "name": "stdout",
          "text": [
            "Predicted Class: 1\n",
            "Actual Class: 1\n"
          ]
        },
        {
          "output_type": "display_data",
          "data": {
            "text/plain": [
              "<Figure size 640x480 with 1 Axes>"
            ],
            "image/png": "[encoded data removed]"
          },
          "metadata": {}
        },
        {
          "output_type": "stream",
          "name": "stdout",
          "text": [
            "Predicted Class: 4\n",
            "Actual Class: 4\n"
          ]
        },
        {
          "output_type": "display_data",
          "data": {
            "text/plain": [
              "<Figure size 640x480 with 1 Axes>"
            ],
            "image/png": "[encoded data removed]"
          },
          "metadata": {}
        },
        {
          "output_type": "stream",
          "name": "stdout",
          "text": [
            "Predicted Class: 0\n",
            "Actual Class: 0\n"
          ]
        },
        {
          "output_type": "display_data",
          "data": {
            "text/plain": [
              "<Figure size 640x480 with 1 Axes>"
            ],
            "image/png": "[encoded data removed]"
          },
          "metadata": {}
        },
        {
          "output_type": "stream",
          "name": "stdout",
          "text": [
            "Predicted Class: 3\n",
            "Actual Class: 3\n"
          ]
        },
        {
          "output_type": "display_data",
          "data": {
            "text/plain": [
              "<Figure size 640x480 with 1 Axes>"
            ],
            "image/png": "[encoded data removed]"
          },
          "metadata": {}
        },
        {
          "output_type": "stream",
          "name": "stdout",
          "text": [
            "Predicted Class: 6\n",
            "Actual Class: 6\n"
          ]
        }
      ]
    }
  ]
}
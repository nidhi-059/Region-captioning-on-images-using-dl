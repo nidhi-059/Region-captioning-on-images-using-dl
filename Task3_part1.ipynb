{
  "nbformat": 4,
  "nbformat_minor": 0,
  "metadata": {
    "colab": {
      "provenance": [],
      "gpuType": "T4",
      "authorship_tag": "ABX9TyOxWuBw6y25tgUPTKAgOhXi",
      "include_colab_link": true
    },
    "kernelspec": {
      "name": "python3",
      "display_name": "Python 3"
    },
    "language_info": {
      "name": "python"
    },
    "accelerator": "GPU"
  },
  "cells": [
    {
      "cell_type": "markdown",
      "metadata": {
        "id": "view-in-github",
        "colab_type": "text"
      },
      "source": [
        "<a href=\"https://colab.research.google.com/github/nidhi-059/Region-captioning-on-images-using-dl/blob/main/Task3_part1.ipynb\" target=\"_parent\"><img src=\"https://colab.research.google.com/assets/colab-badge.svg\" alt=\"Open In Colab\"/></a>"
      ]
    },
    {
      "cell_type": "code",
      "execution_count": 1,
      "metadata": {
        "id": "pY-MhDmILWI5"
      },
      "outputs": [],
      "source": [
        "import torch\n",
        "import torch.nn as nn\n",
        "from torch.utils.data import DataLoader, Dataset\n",
        "import matplotlib.pyplot as plt\n",
        "from torchvision import transforms\n",
        "from torchvision import datasets"
      ]
    },
    {
      "cell_type": "code",
      "source": [
        "device = torch.device('cuda' if torch.cuda.is_available() else 'cpu')\n",
        "torch.manual_seed(42)"
      ],
      "metadata": {
        "colab": {
          "base_uri": "https://localhost:8080/"
        },
        "id": "4I9kh9t7LdhU",
        "outputId": "9905ea9a-8a0f-465b-fb22-1d3fd3b4510d"
      },
      "execution_count": 2,
      "outputs": [
        {
          "output_type": "execute_result",
          "data": {
            "text/plain": [
              "<torch._C.Generator at 0x7b6060554cb0>"
            ]
          },
          "metadata": {},
          "execution_count": 2
        }
      ]
    },
    {
      "cell_type": "code",
      "source": [
        "# Transform: convert to tensor and normalize\n",
        "transform = transforms.Compose([\n",
        "    transforms.ToTensor(),\n",
        "    transforms.Normalize((0.1307,), (0.3081,))  # mean and std for MNIST\n",
        "])\n",
        "\n",
        "# Download and load the training data\n",
        "train_dataset = datasets.MNIST(\n",
        "    root='./data',\n",
        "    train=True,\n",
        "    transform=transform,\n",
        "    download=True\n",
        ")\n",
        "\n",
        "test_dataset = datasets.MNIST(\n",
        "    root='./data',\n",
        "    train=False,\n",
        "    transform=transform,\n",
        "    download=True\n",
        ")\n",
        "\n",
        "# Data loaders\n",
        "train_loader = DataLoader(train_dataset, batch_size=64, shuffle=True)\n",
        "test_loader = DataLoader(test_dataset, batch_size=64, shuffle=False)"
      ],
      "metadata": {
        "id": "p4TC75qDLsu1",
        "colab": {
          "base_uri": "https://localhost:8080/"
        },
        "outputId": "1635499f-1061-46f4-b579-cf3b910e6c6a"
      },
      "execution_count": 3,
      "outputs": [
        {
          "output_type": "stream",
          "name": "stderr",
          "text": [
            "100%|██████████| 9.91M/9.91M [00:00<00:00, 16.8MB/s]\n",
            "100%|██████████| 28.9k/28.9k [00:00<00:00, 485kB/s]\n",
            "100%|██████████| 1.65M/1.65M [00:00<00:00, 4.63MB/s]\n",
            "100%|██████████| 4.54k/4.54k [00:00<00:00, 9.87MB/s]\n"
          ]
        }
      ]
    },
    {
      "cell_type": "code",
      "source": [
        "loss_func = nn.CrossEntropyLoss()"
      ],
      "metadata": {
        "id": "nD1AcLgoNdx2"
      },
      "execution_count": 8,
      "outputs": []
    },
    {
      "cell_type": "code",
      "source": [
        "epochs = 30\n",
        "learning_rate = 0.001"
      ],
      "metadata": {
        "id": "YJttYTB_Nd1G"
      },
      "execution_count": 9,
      "outputs": []
    },
    {
      "cell_type": "code",
      "source": [
        "class AlexNetMNIST(nn.Module):\n",
        "    def __init__(self, num_classes=10):\n",
        "        super().__init__()\n",
        "        self.features = nn.Sequential(\n",
        "            nn.Conv2d(1, 64, kernel_size=3, stride=1, padding=1),\n",
        "            nn.BatchNorm2d(64),\n",
        "            nn.ReLU(inplace=True),\n",
        "            nn.MaxPool2d(2, 2),\n",
        "\n",
        "            nn.Conv2d(64, 192, 3, padding=1),\n",
        "            nn.BatchNorm2d(192),\n",
        "            nn.ReLU(inplace=True),\n",
        "            nn.MaxPool2d(2, 2),\n",
        "\n",
        "            nn.Conv2d(192, 384, 3, padding=1),\n",
        "            nn.BatchNorm2d(384),\n",
        "            nn.ReLU(inplace=True),\n",
        "\n",
        "            nn.Conv2d(384, 256, 3, padding=1),\n",
        "            nn.BatchNorm2d(256),\n",
        "            nn.ReLU(inplace=True),\n",
        "\n",
        "            nn.Conv2d(256, 256, 3, padding=1),\n",
        "            nn.BatchNorm2d(256),\n",
        "            nn.ReLU(inplace=True),\n",
        "\n",
        "            nn.MaxPool2d(2, 2),\n",
        "        )\n",
        "        self.classifier = nn.Sequential(\n",
        "            nn.Dropout(0.5),\n",
        "            nn.Linear(256 * 3 * 3, 1024),  # reduce FC size for speed\n",
        "            nn.ReLU(inplace=True),\n",
        "            nn.Dropout(0.5),\n",
        "            nn.Linear(1024, 256),\n",
        "            nn.ReLU(inplace=True),\n",
        "            nn.Linear(256, num_classes),\n",
        "        )\n",
        "\n",
        "    def forward(self, x):\n",
        "        x = self.features(x)\n",
        "        x = torch.flatten(x, 1)\n",
        "        x = self.classifier(x)\n",
        "        return x"
      ],
      "metadata": {
        "id": "alLVZm4CLtqz"
      },
      "execution_count": 10,
      "outputs": []
    },
    {
      "cell_type": "code",
      "source": [
        "model1 = AlexNetMNIST(10)\n",
        "model1 = model1.to(device)\n",
        "losses = []\n",
        "accuracy = []\n",
        "optimizer = torch.optim.Adam(model1.parameters(),lr=learning_rate , weight_decay= 1e-4)\n",
        "for epoch in range(epochs):\n",
        "    total_labels = 0\n",
        "    running_acc = 0.0\n",
        "    running_loss = 0.0\n",
        "    for batch_features, batch_labels in train_loader:\n",
        "        batch_features, batch_labels = batch_features.to(device), batch_labels.to(device)\n",
        "\n",
        "        #forward pass\n",
        "        y_predic = model1(batch_features)\n",
        "        #calcuting loss\n",
        "        loss = loss_func(y_predic , batch_labels)\n",
        "        #clearing grads\n",
        "        optimizer.zero_grad()\n",
        "        #backward pass\n",
        "        loss.backward()\n",
        "        #updating parameters\n",
        "        optimizer.step()\n",
        "        _, predicted = torch.max(y_predic, dim=1)\n",
        "        running_acc += (predicted == batch_labels).sum().item()\n",
        "        total_labels += batch_labels.size(0)\n",
        "        running_loss += loss.item()\n",
        "\n",
        "    # Compute epoch accuracy\n",
        "    avg_loss = running_loss / (len(train_loader))\n",
        "    avg_acc = running_acc / total_labels\n",
        "    losses.append(avg_loss)\n",
        "    accuracy.append(avg_acc)\n",
        "\n",
        "    print(f\"Epoch {epoch + 1}, Loss: {avg_loss:.6f},\")\n"
      ],
      "metadata": {
        "colab": {
          "base_uri": "https://localhost:8080/"
        },
        "id": "Z_pCRC4WM271",
        "outputId": "2d076f44-97b6-4eec-900c-7627baa5200f"
      },
      "execution_count": 7,
      "outputs": [
        {
          "output_type": "stream",
          "name": "stdout",
          "text": [
            "Epoch 1, Loss: 0.151641,\n",
            "Epoch 2, Loss: 0.062814,\n",
            "Epoch 3, Loss: 0.057996,\n",
            "Epoch 4, Loss: 0.053157,\n",
            "Epoch 5, Loss: 0.049746,\n",
            "Epoch 6, Loss: 0.045565,\n",
            "Epoch 7, Loss: 0.043680,\n",
            "Epoch 8, Loss: 0.039416,\n",
            "Epoch 9, Loss: 0.035831,\n",
            "Epoch 10, Loss: 0.033986,\n",
            "Epoch 11, Loss: 0.031042,\n",
            "Epoch 12, Loss: 0.030849,\n",
            "Epoch 13, Loss: 0.026656,\n",
            "Epoch 14, Loss: 0.026068,\n",
            "Epoch 15, Loss: 0.024075,\n",
            "Epoch 16, Loss: 0.023172,\n",
            "Epoch 17, Loss: 0.021676,\n",
            "Epoch 18, Loss: 0.021814,\n",
            "Epoch 19, Loss: 0.021395,\n",
            "Epoch 20, Loss: 0.019890,\n",
            "Epoch 21, Loss: 0.019339,\n",
            "Epoch 22, Loss: 0.019134,\n",
            "Epoch 23, Loss: 0.020457,\n",
            "Epoch 24, Loss: 0.017697,\n",
            "Epoch 25, Loss: 0.017606,\n",
            "Epoch 26, Loss: 0.017196,\n",
            "Epoch 27, Loss: 0.018126,\n",
            "Epoch 28, Loss: 0.015035,\n",
            "Epoch 29, Loss: 0.016045,\n",
            "Epoch 30, Loss: 0.015870,\n"
          ]
        }
      ]
    },
    {
      "cell_type": "code",
      "source": [
        "plt.plot(losses)\n",
        "plt.title(\"Training loss over epochs\")\n",
        "plt.xlabel(\"Epochs\")\n",
        "plt.ylabel(\"loss\")\n",
        "plt.grid(False)\n",
        "plt.show()\n",
        "plt.plot(accuracy)\n",
        "plt.title(\"Training accuracy over epochs\")\n",
        "plt.xlabel(\"epochs\")\n",
        "plt.ylabel(\"accuracy\")\n",
        "plt.grid(False)\n",
        "plt.show()"
      ],
      "metadata": {
        "colab": {
          "base_uri": "https://localhost:8080/",
          "height": 927
        },
        "id": "HdNlfRkBY1-i",
        "outputId": "fa44d2d7-cba8-4741-9042-1feee834a036"
      },
      "execution_count": 11,
      "outputs": [
        {
          "output_type": "display_data",
          "data": {
            "text/plain": [
              "<Figure size 640x480 with 1 Axes>"
            ],
            "image/png": "[encoded data removed]"
          },
          "metadata": {}
        },
        {
          "output_type": "display_data",
          "data": {
            "text/plain": [
              "<Figure size 640x480 with 1 Axes>"
            ],
            "image/png": "[encoded data removed]"
          },
          "metadata": {}
        }
      ]
    },
    {
      "cell_type": "code",
      "source": [
        "#Model evaluation\n",
        "model1.eval()\n",
        "total = 0\n",
        "correct = 0\n",
        "\n",
        "with torch.no_grad():\n",
        "\n",
        "  for batch_features, batch_labels in test_loader:\n",
        "    batch_features, batch_labels = batch_features.to(device), batch_labels.to(device)\n",
        "    outputs = model1(batch_features)\n",
        "\n",
        "    _, predicted = torch.max(outputs, 1)\n",
        "\n",
        "    total = total + batch_labels.shape[0]\n",
        "\n",
        "    correct = correct + (predicted == batch_labels).sum().item()\n",
        "\n",
        "print(f\"Test accuracy: {(correct/total)*100}%\")"
      ],
      "metadata": {
        "colab": {
          "base_uri": "https://localhost:8080/"
        },
        "id": "LJGTTvTiNHkj",
        "outputId": "88ffacfa-7975-44b9-ff99-0537a458b5ec"
      },
      "execution_count": 12,
      "outputs": [
        {
          "output_type": "stream",
          "name": "stdout",
          "text": [
            "Test accuracy: 99.19%\n"
          ]
        }
      ]
    },
    {
      "cell_type": "code",
      "source": [
        "#Model evaluation\n",
        "\n",
        "total = 0\n",
        "correct = 0\n",
        "\n",
        "with torch.no_grad():\n",
        "\n",
        "  for batch_features, batch_labels in train_loader:\n",
        "    batch_features, batch_labels = batch_features.to(device), batch_labels.to(device)\n",
        "    outputs = model1(batch_features)\n",
        "\n",
        "    _, predicted = torch.max(outputs, 1)\n",
        "\n",
        "    total = total + batch_labels.shape[0]\n",
        "\n",
        "    correct = correct + (predicted == batch_labels).sum().item()\n",
        "\n",
        "print(f\"Train accuracy : {(correct/total)*100}%\")"
      ],
      "metadata": {
        "colab": {
          "base_uri": "https://localhost:8080/"
        },
        "id": "Y1KQ0aLHNR96",
        "outputId": "3a443262-c079-45c8-f6b7-b1e2ac708439"
      },
      "execution_count": 13,
      "outputs": [
        {
          "output_type": "stream",
          "name": "stdout",
          "text": [
            "Train accuracy : 99.82833333333333%\n"
          ]
        }
      ]
    },
    {
      "cell_type": "code",
      "source": [
        "import numpy as np\n",
        "classes = ['0','1','2','3','4','5','6','7','8','9']\n",
        "\n",
        "def unnormalize(img_tensor):\n",
        "\n",
        "    mean = 0.1307\n",
        "    std = 0.3081\n",
        "    img_tensor = img_tensor.clone()\n",
        "    img_tensor = img_tensor * std + mean   # Undo normalization\n",
        "    return img_tensor\n",
        "\n",
        "def predict(model, image, transform=None, device='cpu'):\n",
        "    model.to(device)\n",
        "    model.eval()\n",
        "\n",
        "    if transform is not None:\n",
        "        image = transform(image)\n",
        "\n",
        "    image = image.to(device)\n",
        "    image_batch = image.unsqueeze(0)  # Add batch dimension\n",
        "\n",
        "    with torch.no_grad():\n",
        "        outputs = model(image_batch)\n",
        "        _, predicted = torch.max(outputs, 1)\n",
        "\n",
        "    predicted_label = classes[predicted.item()]\n",
        "\n",
        "    # Unnormalize for display\n",
        "    image_display = unnormalize(image.cpu())\n",
        "    image_np = np.transpose(image_display.numpy(), (1, 2, 0))\n",
        "\n",
        "    plt.imshow(image_np)\n",
        "    plt.title(f'Predicted: {predicted_label}')\n",
        "    plt.axis('off')\n",
        "    plt.show()\n",
        "\n",
        "    return predicted_label"
      ],
      "metadata": {
        "id": "nSnhSDcwzDZY"
      },
      "execution_count": 18,
      "outputs": []
    },
    {
      "cell_type": "code",
      "source": [
        "data_iter = iter(test_loader)\n",
        "images, labels = next(data_iter)\n",
        "\n",
        "\n",
        "image = images[50]\n",
        "label = labels[50]\n",
        "\n",
        "# Predict\n",
        "predicted_label = predict(model1, image, transform=None, device=device)\n",
        "print(f'Actual: {classes[label]}')\n",
        "\n",
        "image = images[5]\n",
        "label = labels[5]\n",
        "\n",
        "# Predict\n",
        "predicted_label = predict(model1, image, transform=None, device=device)\n",
        "print(f'Actual: {classes[label]}')\n",
        "\n",
        "image = images[60]\n",
        "label = labels[60]\n",
        "\n",
        "# Predict\n",
        "predicted_label = predict(model1, image, transform=None, device=device)\n",
        "print(f'Actual: {classes[label]}')\n",
        "\n",
        "image = images[55]\n",
        "label = labels[55]\n",
        "\n",
        "# Predict\n",
        "predicted_label = predict(model1, image, transform=None, device=device)\n",
        "print(f'Actual: {classes[label]}')\n",
        "\n",
        "image = images[45]\n",
        "label = labels[45]\n",
        "\n",
        "# Predict\n",
        "predicted_label = predict(model1, image, transform=None, device=device)\n",
        "print(f'Actual: {classes[label]}')"
      ],
      "metadata": {
        "colab": {
          "base_uri": "https://localhost:8080/",
          "height": 1000
        },
        "id": "GiXZ1k2F1DJH",
        "outputId": "13ce5ee5-1ec7-41f7-ca7d-58be5ad71b75"
      },
      "execution_count": 21,
      "outputs": [
        {
          "output_type": "display_data",
          "data": {
            "text/plain": [
              "<Figure size 640x480 with 1 Axes>"
            ],
            "image/png": "[encoded data removed]"
          },
          "metadata": {}
        },
        {
          "output_type": "stream",
          "name": "stdout",
          "text": [
            "Actual: 6\n"
          ]
        },
        {
          "output_type": "display_data",
          "data": {
            "text/plain": [
              "<Figure size 640x480 with 1 Axes>"
            ],
            "image/png": "[encoded data removed]"
          },
          "metadata": {}
        },
        {
          "output_type": "stream",
          "name": "stdout",
          "text": [
            "Actual: 1\n"
          ]
        },
        {
          "output_type": "display_data",
          "data": {
            "text/plain": [
              "<Figure size 640x480 with 1 Axes>"
            ],
            "image/png": "[encoded data removed]"
          },
          "metadata": {}
        },
        {
          "output_type": "stream",
          "name": "stdout",
          "text": [
            "Actual: 7\n"
          ]
        },
        {
          "output_type": "display_data",
          "data": {
            "text/plain": [
              "<Figure size 640x480 with 1 Axes>"
            ],
            "image/png": "[encoded data removed]"
          },
          "metadata": {}
        },
        {
          "output_type": "stream",
          "name": "stdout",
          "text": [
            "Actual: 0\n"
          ]
        },
        {
          "output_type": "display_data",
          "data": {
            "text/plain": [
              "<Figure size 640x480 with 1 Axes>"
            ],
            "image/png": "[encoded data removed]"
          },
          "metadata": {}
        },
        {
          "output_type": "stream",
          "name": "stdout",
          "text": [
            "Actual: 5\n"
          ]
        }
      ]
    }
  ]
}